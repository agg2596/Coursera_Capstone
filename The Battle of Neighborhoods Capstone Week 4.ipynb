{
    "cells": [
        {
            "metadata": {
                "collapsed": true
            },
            "cell_type": "markdown",
            "source": "# Capstone Project: The Battle of Neighborhoods\n## The Ideal Neighborhood for New Restaurants in Boston"
        },
        {
            "metadata": {},
            "cell_type": "markdown",
            "source": "### Introduction/Business Problem"
        },
        {
            "metadata": {},
            "cell_type": "markdown",
            "source": ">Clearly define a problem or an idea of your choice, where you would need to leverage the Foursquare location data to solve or execute. Remember that data science problems always target an audience and are meant to help a group of stakeholders solve a problem, so make sure that you explicitly describe your audience and why they would care about your problem.\n\nProspective new store owners need to take into account many different factors when deciding where to open their business, even moreso for a business such as a restaurant. Knowing the location and neighborhood density of different genres of food would help owners know better neighborhoods to target, since opening the 2nd Italian restaurant in a neighborhood likely has better staying potential and earning potential than the 8th Italian restaurant in a separate part of Boston. There are additional factors a prospective restaurant owner might utilize, such as data within their specific cuisine about the targeted audience and price range for restaurants in the area. Additionally the *quality* of the existing restaurants in the area may provide information about potential in opening another restaurant of the same cuisine in a given neighborhood. \n\nAll of this data can be scraped or extrapolated from Foursquare and similar databases."
        },
        {
            "metadata": {},
            "cell_type": "markdown",
            "source": "### Data"
        },
        {
            "metadata": {},
            "cell_type": "markdown",
            "source": ">Describe the data that you will be using to solve the problem or execute your idea. Remember that you will need to use the Foursquare location data to solve the problem or execute your idea. You can absolutely use other datasets in combination with the Foursquare location data. So make sure that you provide adequate explanation and discussion, with examples, of the data that you will be using, even if it is only Foursquare location data.\n\nThe data needed would be the separate neighborhoods in Boston, data of a few different types of restaurants (ie. Italian, Chinese, German) and which neighborhoods they are in, and from that we would need to find the relative density of those types of restaurants in each neighborhood compared to the neighborhood's population. The location data for restaurants around Boston can be used to identify where there is a relative lack in cuisine in certain neighborhoods, and from there extrapolate possible \"untapped markets\" for a new restaurant opening.\n\nFurther, we can gather a Foursquare dataset that includes the average review rating of each of these restaurants to also highlight where there might be, for example, \"no good Chinese place\" in a certain area. There would be potential to capitalize on a local population that could be more receptive to another Chinese restaurant moving into the area even when there are a decent number of similar but unpopular restaurants of the same cuisine already established.\n\nThere may even be conclusions we can draw from Foursquare data extracted about the average price range a customer may expect at the given restaurants in the area. If there are only upscale Italian restaurants in a particular neighborhood, it's reasonable to assume there's potential in a \"Mom and Pop\" type family-friendly Italian restaurant in the neighborhood. "
        },
        {
            "metadata": {},
            "cell_type": "code",
            "source": "",
            "execution_count": null,
            "outputs": []
        }
    ],
    "metadata": {
        "kernelspec": {
            "name": "python3",
            "display_name": "Python 3.6",
            "language": "python"
        },
        "language_info": {
            "name": "python",
            "version": "3.6.9",
            "mimetype": "text/x-python",
            "codemirror_mode": {
                "name": "ipython",
                "version": 3
            },
            "pygments_lexer": "ipython3",
            "nbconvert_exporter": "python",
            "file_extension": ".py"
        }
    },
    "nbformat": 4,
    "nbformat_minor": 1
}